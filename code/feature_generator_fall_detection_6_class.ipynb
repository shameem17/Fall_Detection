{
  "cells": [
    {
      "cell_type": "code",
      "execution_count": null,
      "metadata": {
        "id": "bPJnnDoljq8Z"
      },
      "outputs": [],
      "source": [
        "import numpy as np\n",
        "import pandas as pd\n",
        "import sklearn as sklearn\n",
        "import math\n",
        "from matplotlib import pyplot as plt\n",
        "from mpl_toolkits.mplot3d import Axes3D\n",
        "import seaborn as sns\n",
        "\n",
        "from sklearn.model_selection import train_test_split\n",
        "from sklearn.decomposition import PCA\n",
        "from sklearn import metrics\n",
        "\n",
        "from sklearn.preprocessing import MinMaxScaler\n",
        "from sklearn.preprocessing import LabelEncoder\n",
        "\n",
        "from keras.models import Sequential\n",
        "from keras.layers import Dense,Dropout\n",
        "\n",
        "import warnings\n",
        "from tensorflow import keras\n",
        "from tensorflow.keras import layers\n",
        "\n",
        "warnings.filterwarnings('ignore')"
      ]
    },
    {
      "cell_type": "code",
      "execution_count": null,
      "metadata": {
        "colab": {
          "base_uri": "https://localhost:8080/"
        },
        "id": "HVOHS1L-BD3d",
        "outputId": "b8d567c4-89d6-4d86-e360-9f111e7e96ce"
      },
      "outputs": [
        {
          "output_type": "stream",
          "name": "stdout",
          "text": [
            "Drive already mounted at /content/drive; to attempt to forcibly remount, call drive.mount(\"/content/drive\", force_remount=True).\n"
          ]
        }
      ],
      "source": [
        "from google.colab import drive\n",
        "drive.mount('/content/drive')"
      ]
    },
    {
      "cell_type": "code",
      "execution_count": null,
      "metadata": {
        "colab": {
          "base_uri": "https://localhost:8080/"
        },
        "id": "phJfvlKkl6he",
        "outputId": "be5c68e8-85ef-441d-d042-5b1fb103c943"
      },
      "outputs": [
        {
          "output_type": "stream",
          "name": "stdout",
          "text": [
            "cp: cannot stat '/content/drive/MyDrive/Colab': No such file or directory\n",
            "cp: cannot stat 'Notebooks/CSV': No such file or directory\n"
          ]
        }
      ],
      "source": [
        "!cp -r /content/drive/MyDrive/Colab Notebooks/CSV /content"
      ]
    },
    {
      "cell_type": "code",
      "execution_count": null,
      "metadata": {
        "id": "cPKYItpMLxq7"
      },
      "outputs": [],
      "source": [
        "ac_col=['time','ac_x','ac_y','ac_z','a_ac']\n",
        "gy_col=['time','gy_x','gy_y','gy_z','a_gy']\n",
        "features=['ac_x','ac_y','ac_z','a_ac','gy_x','gy_y','gy_z','a_gy','jac_x','jac_y','jac_z','ja_ac','jgy_x','jgy_y','jgy_z','ja_gy']"
      ]
    },
    {
      "cell_type": "code",
      "execution_count": null,
      "metadata": {
        "id": "CXxSvsZuT3YH"
      },
      "outputs": [],
      "source": [
        "##### Number of data ###########\n",
        "f_s=1\n",
        "f_e=206\n",
        "fall_number=0\n",
        "w_s=1\n",
        "w_e=222\n",
        "walk_number=0\n",
        "s_s=1\n",
        "s_e=250\n",
        "sit_number=0\n",
        "bsc_s=1\n",
        "bsc_e=253\n",
        "bsc_number=0\n",
        "laying_s=1\n",
        "laying_e=247\n",
        "laying_number=0\n",
        "standing_s=1\n",
        "standing_e=218\n",
        "stand_number=0\n",
        "\n"
      ]
    },
    {
      "cell_type": "code",
      "execution_count": null,
      "metadata": {
        "id": "j9jBX8dMBG95"
      },
      "outputs": [],
      "source": [
        "########### Loading Falling Data #########\n",
        "\n",
        "file_name='Falling_ac'\n",
        "fm='Falling_gy'\n",
        "fall_ac=[]\n",
        "fall_gy=[]\n",
        "for i in range (f_s,f_e):\n",
        "  fall_number+=1\n",
        "  extra='_'+str(i)+'.csv'\n",
        "  path='/content/drive/MyDrive/Colab Notebooks/CSV/Fall/'+file_name+extra\n",
        "  path2='/content/drive/MyDrive/Colab Notebooks/CSV/Fall/'+fm+extra\n",
        "  df=pd.read_csv(path,header=None,skiprows=1,names=ac_col)\n",
        "  df2=pd.read_csv(path2,header=None,skiprows=1,names=gy_col)\n",
        "  fall_ac.append(df)\n",
        "  fall_gy.append(df2)\n",
        ""
      ]
    },
    {
      "cell_type": "code",
      "execution_count": null,
      "metadata": {
        "id": "5gzruuygqnfJ"
      },
      "outputs": [],
      "source": [
        "########### Loading Walking Data #########\n",
        "\n",
        "file_name='Walking_ac'\n",
        "fm='Walking_gy'\n",
        "walk_ac=[]\n",
        "walk_gy=[]\n",
        "\n",
        "for i in range (w_s,w_e):\n",
        "  walk_number+=1\n",
        "  extra='_'+str(i)+'.csv'\n",
        "  path='/content/drive/MyDrive/Colab Notebooks/CSV/Walk/'+file_name+extra\n",
        "  path2='/content/drive/MyDrive/Colab Notebooks/CSV/Walk/'+fm+extra\n",
        "  df=pd.read_csv(path,header=None,skiprows=1,names=ac_col)\n",
        "  df2=pd.read_csv(path2,header=None,skiprows=1,names=gy_col)\n",
        "  walk_ac.append(df)\n",
        "  walk_gy.append(df2)\n"
      ]
    },
    {
      "cell_type": "code",
      "execution_count": null,
      "metadata": {
        "id": "s5SnzVc7LVAW"
      },
      "outputs": [],
      "source": [
        "##### Loading Sitting Data ######################\n",
        "\n",
        "file_name='Sitting_ac'\n",
        "fm='Sitting_gy'\n",
        "sit_ac=[]\n",
        "sit_gy=[]\n",
        "\n",
        "for i in range (s_s,s_e):\n",
        "  sit_number+=1\n",
        "  extra='_'+str(i)+'.csv'\n",
        "  path='/content/drive/MyDrive/Colab Notebooks/CSV/Sit/'+file_name+extra\n",
        "  path2='/content/drive/MyDrive/Colab Notebooks/CSV/Sit/'+fm+extra\n",
        "  df=pd.read_csv(path,header=None,skiprows=1,names=ac_col)\n",
        "  df2=pd.read_csv(path2,header=None,skiprows=1,names=gy_col)\n",
        "  sit_ac.append(df)\n",
        "  sit_gy.append(df2)\n",
        "\n"
      ]
    },
    {
      "cell_type": "code",
      "execution_count": null,
      "metadata": {
        "id": "MYUEqhEpjX79"
      },
      "outputs": [],
      "source": [
        "##### Loading BSC Data ######################\n",
        "\n",
        "file_name='BSC_ac'\n",
        "fm='BSC_gy'\n",
        "bsc_ac=[]\n",
        "bsc_gy=[]\n",
        "\n",
        "for i in range (bsc_s,bsc_e):\n",
        "  bsc_number+=1\n",
        "  extra='_'+str(i)+'.csv'\n",
        "  path='/content/drive/MyDrive/Colab Notebooks/CSV/BSC/'+file_name+extra\n",
        "  path2='/content/drive/MyDrive/Colab Notebooks/CSV/BSC/'+fm+extra\n",
        "  df=pd.read_csv(path,header=None,skiprows=1,names=ac_col)\n",
        "  df2=pd.read_csv(path2,header=None,skiprows=1,names=gy_col)\n",
        "  bsc_ac.append(df)\n",
        "  bsc_gy.append(df2)"
      ]
    },
    {
      "cell_type": "code",
      "execution_count": null,
      "metadata": {
        "id": "k-FUBO3nj0GO"
      },
      "outputs": [],
      "source": [
        "##### Loading Laying Data ######################\n",
        "\n",
        "file_name='Laying_ac'\n",
        "fm='Laying_gy'\n",
        "laying_ac=[]\n",
        "laying_gy=[]\n",
        "\n",
        "for i in range (laying_s,laying_e):\n",
        "  laying_number+=1\n",
        "  extra='_'+str(i)+'.csv'\n",
        "  path='/content/drive/MyDrive/Colab Notebooks/CSV/Laying/'+file_name+extra\n",
        "  path2='/content/drive/MyDrive/Colab Notebooks/CSV/Laying/'+fm+extra\n",
        "  df=pd.read_csv(path,header=None,skiprows=1,names=ac_col)\n",
        "  df2=pd.read_csv(path2,header=None,skiprows=1,names=gy_col)\n",
        "  laying_ac.append(df)\n",
        "  laying_gy.append(df2)"
      ]
    },
    {
      "cell_type": "code",
      "execution_count": null,
      "metadata": {
        "id": "d0AFpH92kSpj"
      },
      "outputs": [],
      "source": [
        "##### Loading Standing Data ######################\n",
        "\n",
        "file_name='Standing_ac'\n",
        "fm='Standing_gy'\n",
        "stand_ac=[]\n",
        "stand_gy=[]\n",
        "\n",
        "for i in range (standing_s,standing_e):\n",
        "  stand_number+=1\n",
        "  extra='_'+str(i)+'.csv'\n",
        "  path='/content/drive/MyDrive/Colab Notebooks/CSV/Standing/'+file_name+extra\n",
        "  path2='/content/drive/MyDrive/Colab Notebooks/CSV/Standing/'+fm+extra\n",
        "  df=pd.read_csv(path,header=None,skiprows=1,names=ac_col)\n",
        "  df2=pd.read_csv(path2,header=None,skiprows=1,names=gy_col)\n",
        "  stand_ac.append(df)\n",
        "  stand_gy.append(df2)"
      ]
    },
    {
      "cell_type": "code",
      "execution_count": null,
      "metadata": {
        "colab": {
          "base_uri": "https://localhost:8080/",
          "height": 36
        },
        "id": "FZAE3Wby8xom",
        "outputId": "30b19979-7944-49e6-a8c9-d75cf149a17f"
      },
      "outputs": [
        {
          "output_type": "execute_result",
          "data": {
            "text/plain": [
              "\"\\ntemp=fall_ac[15]\\ntemp['ac_x'].plot()\\n\""
            ],
            "application/vnd.google.colaboratory.intrinsic+json": {
              "type": "string"
            }
          },
          "metadata": {},
          "execution_count": 89
        }
      ],
      "source": [
        "###plot\n",
        "\"\"\"\n",
        "temp=fall_ac[15]\n",
        "temp['ac_x'].plot()\n",
        "\"\"\""
      ]
    },
    {
      "cell_type": "code",
      "execution_count": null,
      "metadata": {
        "id": "V4q4BUt8SsnE"
      },
      "outputs": [],
      "source": [
        "fall_jerk_ac=[]\n",
        "fall_jerk_gy=[]\n",
        "walk_jerk_ac=[]\n",
        "walk_jerk_gy=[]\n",
        "sit_jerk_ac=[]\n",
        "sit_jerk_gy=[]\n",
        "bsc_jerk_ac=[]\n",
        "bsc_jerk_gy=[]\n",
        "stand_jerk_ac=[]\n",
        "stand_jerk_gy=[]\n",
        "laying_jerk_ac=[]\n",
        "laying_jerk_gy=[]\n"
      ]
    },
    {
      "cell_type": "code",
      "execution_count": null,
      "metadata": {
        "id": "1YFmW5Wpz4nV"
      },
      "outputs": [],
      "source": [
        "def get_jerk(a,num):\n",
        "  n=a.shape[0]\n",
        "  if(num==1):\n",
        "     x=np.array(a['ac_x'].astype(float))\n",
        "     y=np.array(a['ac_y'].astype(float))\n",
        "     z=np.array(a['ac_z'].astype(float))\n",
        "     d=np.array(a['a_ac'].astype(float))\n",
        "     columns=['jac_x','jac_y','jac_z','ja_ac']\n",
        "  else:\n",
        "     x=np.array(a['gy_x'].astype(float))\n",
        "     y=np.array(a['gy_y'].astype(float))\n",
        "     z=np.array(a['gy_z'].astype(float))\n",
        "     d=np.array(a['a_gy'].astype(float))\n",
        "     columns=['jgy_x','jgy_y','jgy_z','ja_gy']\n",
        "\n",
        "\n",
        "  time=a['time']\n",
        "\n",
        "  temx=[]\n",
        "  ac=[]\n",
        "\n",
        "\n",
        "  for i in range (1,n):\n",
        "    temx=[]\n",
        "    ax1=x[i-1]\n",
        "    ax2=x[i]\n",
        "    t1=time[i-1]\n",
        "    t2=time[i]\n",
        "    ay1=y[i-1]\n",
        "    ay2=y[i]\n",
        "    az1=z[i-1]\n",
        "    az2=z[i]\n",
        "    am1=d[i-1]\n",
        "    am2=d[i]\n",
        "    t0=t2-t1\n",
        "    ax=ax2-ax1\n",
        "    ax*=1000000000\n",
        "    ax/=t0\n",
        "    ay=ay2-ay1\n",
        "    ay*=1000000000\n",
        "    ay/=t0\n",
        "    az=az2-az1\n",
        "    az*=1000000000\n",
        "    az/=t0\n",
        "\n",
        "    am=am2-am1\n",
        "    am*=1000000000\n",
        "    am/=t0\n",
        "    ax=round(ax,6)\n",
        "    ay=round(ay,6)\n",
        "    az=round(az,6)\n",
        "    am=round(am,6)\n",
        "    temx.append(ax)\n",
        "    temx.append(ay)\n",
        "    temx.append(az)\n",
        "    temx.append(am)\n",
        "    ac.append(temx)\n",
        "  ac.append(temx)\n",
        "  adf=pd.DataFrame(data=ac,columns=columns)\n",
        "  return adf;"
      ]
    },
    {
      "cell_type": "code",
      "execution_count": null,
      "metadata": {
        "id": "6PjgEn8xKWIO"
      },
      "outputs": [],
      "source": [
        "############# Magnitude Signal \"\"\"\"\"\"\"\"\"\"\"\"\"\"\"\"\"\"\"\"\"\"\"\"\n",
        "def mag(a,num):\n",
        "  n=len(a)\n",
        "  if(num==1):\n",
        "     x=a['ac_x'].astype(float)\n",
        "     y=a['ac_y'].astype(float)\n",
        "     z=a['ac_z'].astype(float)\n",
        "     columns=['time','ac_x','ac_y','ac_z','a_ac']\n",
        "  else:\n",
        "      x=a['gy_x'].astype(float)\n",
        "      y=a['gy_y'].astype(float)\n",
        "      z=a['gy_z'].astype(float)\n",
        "      columns=['time','gy_x','gy_y','gy_z','a_gy']\n",
        "  t=a['time']\n",
        "  temx=[]\n",
        "  ac=[]\n",
        "  for i in range(0,n):\n",
        "    temx=[]\n",
        "    temx.append(t[i])\n",
        "    p=x[i]\n",
        "    q=y[i]\n",
        "    r=z[i]\n",
        "    sq=p*p+q*q+r*r\n",
        "    sq=np.sqrt(sq)\n",
        "    temx.append(x[i])\n",
        "    temx.append(y[i])\n",
        "    temx.append(z[i])\n",
        "    temx.append(sq)\n",
        "    ac.append(temx)\n",
        "\n",
        "  adf=pd.DataFrame(data=ac,columns=columns)\n",
        "  return adf;"
      ]
    },
    {
      "cell_type": "markdown",
      "metadata": {
        "id": "zLrWaEF65F_c"
      },
      "source": [
        "Data Processor"
      ]
    },
    {
      "cell_type": "code",
      "execution_count": null,
      "metadata": {
        "id": "chklUNix5ER_"
      },
      "outputs": [],
      "source": [
        "def process_data(a,b,num):\n",
        "  if(len(a)>len(b)):\n",
        "    n=len(a)\n",
        "    mn=len(b)\n",
        "  else:\n",
        "    n=len(b)\n",
        "    mn=len(a)\n",
        "  factor=int(n/mn)\n",
        "\n",
        "  ac=[]\n",
        "  gg=[]\n",
        "  if(num==1):\n",
        "    if(len(a)>len(b)):\n",
        "      x=a['ac_x'].astype(float)\n",
        "      y=a['ac_y'].astype(float)\n",
        "      z=a['ac_z'].astype(float)\n",
        "      m=a['a_ac'].astype(float)\n",
        "      ga=b['gy_x'].astype(float)\n",
        "      gb=b['gy_y'].astype(float)\n",
        "      gc=b['gy_z'].astype(float)\n",
        "      gm=b['a_gy'].astype(float)\n",
        "    else:\n",
        "      x=b['gy_x'].astype(float)\n",
        "      y=b['gy_y'].astype(float)\n",
        "      z=b['gy_z'].astype(float)\n",
        "      m=b['a_gy'].astype(float)\n",
        "      ga=a['ac_x'].astype(float)\n",
        "      gb=a['ac_y'].astype(float)\n",
        "      gc=a['ac_z'].astype(float)\n",
        "      gm=a['a_ac'].astype(float)\n",
        "    columns=['ac_x','ac_y','ac_z','a_ac']\n",
        "    col2=['gy_x','gy_y','gy_z','a_gy']\n",
        "  else:\n",
        "     columns=['jac_x','jac_y','jac_z','ja_ac']\n",
        "     col2=['jgy_x','jgy_y','jgy_z','ja_gy']\n",
        "     if(len(a)>len(b)):\n",
        "       x=a['jac_x'].astype(float)\n",
        "       y=a['jac_y'].astype(float)\n",
        "       z=a['jac_z'].astype(float)\n",
        "       m=a['ja_ac'].astype(float)\n",
        "       ga=b['jgy_x'].astype(float)\n",
        "       gb=b['jgy_y'].astype(float)\n",
        "       gc=b['jgy_z'].astype(float)\n",
        "       gm=b['ja_gy'].astype(float)\n",
        "     else:\n",
        "       x=b['jgy_x'].astype(float)\n",
        "       y=b['jgy_y'].astype(float)\n",
        "       z=b['jgy_z'].astype(float)\n",
        "       m=b['ja_gy'].astype(float)\n",
        "       ga=a['jac_x'].astype(float)\n",
        "       gb=a['jac_y'].astype(float)\n",
        "       gc=a['jac_z'].astype(float)\n",
        "       gm=a['ja_ac'].astype(float)\n",
        "\n",
        "  idx=0\n",
        "  for i in range (1,mn-1):\n",
        "    ax=0\n",
        "    ay=0\n",
        "    az=0\n",
        "    am=0\n",
        "    gx=0\n",
        "    gy=0\n",
        "    gz=0\n",
        "    gt=0\n",
        "    temx=[]\n",
        "    temp=[]\n",
        "    for k in range (0,factor):\n",
        "      if(idx+k>=n):\n",
        "        break\n",
        "      ax=ax+x[idx+k]\n",
        "      ay=ay+y[idx+k]\n",
        "      az=az+z[idx+k]\n",
        "      am=am+m[idx+k]\n",
        "      idx=idx+factor\n",
        "    ax/=factor\n",
        "    ay/=factor\n",
        "    az/=factor\n",
        "    am/=factor\n",
        "    gx=ga[i]\n",
        "    gy=gb[i]\n",
        "    gz=gc[i]\n",
        "    gt=gm[i]\n",
        "    if(ax<0):\n",
        "      ax=ax*-1\n",
        "    if(ay<0):\n",
        "      ay=ay*-1\n",
        "    if(az<0):\n",
        "      az=az*-1\n",
        "    if(gx<0):\n",
        "      gx=gx*-1\n",
        "    if(gy<0):\n",
        "      gy=gy*-1\n",
        "    if(gz<0):\n",
        "      gz=gz*-1\n",
        "    temx.append(round(ax,6))\n",
        "    temx.append(round(ay,6))\n",
        "    temx.append(round(az,6))\n",
        "    temx.append(round(am,6))\n",
        "    ac.append(temx)\n",
        "    temp.append(round(gx,6))\n",
        "    temp.append(round(gy,6))\n",
        "    temp.append(round(gz,6))\n",
        "    temp.append(round(gt,6))\n",
        "    gg.append(temp)\n",
        "  adf=pd.DataFrame(data=ac,columns=columns)\n",
        "  gdf=pd.DataFrame(data=gg,columns=col2)\n",
        "  #print(adf.head(10))\n",
        "  #print(gdf.head(10))\n",
        "  #print(adf.shape,' ',gdf.shape)\n",
        "  return adf,gdf\n",
        "\n"
      ]
    },
    {
      "cell_type": "code",
      "execution_count": null,
      "metadata": {
        "id": "wf-Z4CeFS1-P"
      },
      "outputs": [],
      "source": [
        "for i in range(0,fall_number):\n",
        "  fall_ac[i]=mag(fall_ac[i],1)\n",
        "  fall_gy[i]=mag(fall_gy[i],2)\n",
        "\n",
        "for i in range(0,walk_number):\n",
        "  walk_ac[i]=mag(walk_ac[i],1)\n",
        "  walk_gy[i]=mag(walk_gy[i],2)\n",
        "\n",
        "for i in range(0,sit_number):\n",
        "  sit_ac[i]=mag(sit_ac[i],1)\n",
        "  sit_gy[i]=mag(sit_gy[i],2)\n",
        "\n",
        "for i in range(0,bsc_number):\n",
        "  bsc_ac[i]=mag(bsc_ac[i],1)\n",
        "  bsc_gy[i]=mag(bsc_gy[i],2)\n",
        "\n",
        "for i in range(0,laying_number):\n",
        "  laying_ac[i]=mag(laying_ac[i],1)\n",
        "  laying_gy[i]=mag(laying_gy[i],2)\n",
        "\n",
        "for i in range(0,stand_number):\n",
        "  stand_ac[i]=mag(stand_ac[i],1)\n",
        "  stand_gy[i]=mag(stand_gy[i],2)"
      ]
    },
    {
      "cell_type": "code",
      "execution_count": null,
      "metadata": {
        "id": "0u4_XgRJ47lr"
      },
      "outputs": [],
      "source": [
        "\n",
        "##### Fall Jerk ##############\n",
        "for i in range(0,fall_number):\n",
        "  a=get_jerk(fall_ac[i],1)\n",
        "  b=get_jerk(fall_gy[i],2)\n",
        "  fall_jerk_ac.append(a)\n",
        "  fall_jerk_gy.append(b)\n",
        "\n",
        "#### Sitting jerk signal ######\n",
        "\n",
        "for i in range(0,sit_number):\n",
        "  a=get_jerk(sit_ac[i],1)\n",
        "  b=get_jerk(sit_gy[i],2)\n",
        "  sit_jerk_ac.append(a)\n",
        "  sit_jerk_gy.append(b)\n",
        "\n",
        "########## Walk Jerk signal #########\n",
        "for i in range(0,walk_number):\n",
        "  a=get_jerk(walk_ac[i],1)\n",
        "  b=get_jerk(walk_gy[i],2)\n",
        "  walk_jerk_ac.append(a)\n",
        "  walk_jerk_gy.append(b)\n",
        "\n",
        "#### Standing jerk signal ######\n",
        "\n",
        "for i in range(0,stand_number):\n",
        "  a=get_jerk(stand_ac[i],1)\n",
        "  b=get_jerk(stand_gy[i],2)\n",
        "  stand_jerk_ac.append(a)\n",
        "  stand_jerk_gy.append(b)\n",
        "\n",
        "\n",
        "#### Laying jerk signal ######\n",
        "\n",
        "for i in range(0,laying_number):\n",
        "  a=get_jerk(laying_ac[i],1)\n",
        "  b=get_jerk(laying_gy[i],2)\n",
        "  laying_jerk_ac.append(a)\n",
        "  laying_jerk_gy.append(b)\n",
        "\n",
        "\n",
        "#### BSC jerk signal ######\n",
        "\n",
        "for i in range(0,bsc_number):\n",
        "  a=get_jerk(bsc_ac[i],1)\n",
        "  b=get_jerk(bsc_gy[i],2)\n",
        "  bsc_jerk_ac.append(a)\n",
        "  bsc_jerk_gy.append(b)\n",
        "\n"
      ]
    },
    {
      "cell_type": "code",
      "execution_count": null,
      "metadata": {
        "id": "arqk6chupr-0"
      },
      "outputs": [],
      "source": [
        "for i in range(0,fall_number):\n",
        "  fall_ac[i],fall_gy[i]=process_data(fall_ac[i],fall_gy[i],1)\n",
        "  fall_jerk_ac[i],fall_jerk_gy[i]=process_data(fall_jerk_ac[i],fall_jerk_gy[i],2)\n",
        "\n",
        "for i in range(0,stand_number):\n",
        "  stand_ac[i],stand_gy[i]=process_data(stand_ac[i],stand_gy[i],1)\n",
        "  stand_jerk_ac[i],stand_jerk_gy[i]=process_data(stand_jerk_ac[i],stand_jerk_gy[i],2)\n",
        "\n",
        "for i in range(0,walk_number):\n",
        "  walk_ac[i],walk_gy[i]=process_data(walk_ac[i],walk_gy[i],1)\n",
        "  walk_jerk_ac[i],walk_jerk_gy[i]=process_data(walk_jerk_ac[i],walk_jerk_gy[i],2)\n",
        "\n",
        "\n",
        "for i in range(0,laying_number):\n",
        "  laying_ac[i],laying_gy[i]=process_data(laying_ac[i],laying_gy[i],1)\n",
        "  laying_jerk_ac[i],laying_jerk_gy[i]=process_data(laying_jerk_ac[i],laying_jerk_gy[i],2)\n",
        "\n",
        "\n",
        "for i in range(0,sit_number):\n",
        "  sit_ac[i],sit_gy[i]=process_data(sit_ac[i],sit_gy[i],1)\n",
        "  sit_jerk_ac[i],sit_jerk_gy[i]=process_data(sit_jerk_ac[i],sit_jerk_gy[i],2)\n",
        "\n",
        "for i in range(0,bsc_number):\n",
        "  bsc_ac[i],bsc_gy[i]=process_data(bsc_ac[i],bsc_gy[i],1)\n",
        "  bsc_jerk_ac[i],bsc_jerk_gy[i]=process_data(bsc_jerk_ac[i],bsc_jerk_gy[i],2)\n"
      ]
    },
    {
      "cell_type": "markdown",
      "metadata": {
        "id": "TnAjFW5nFEjz"
      },
      "source": [
        "Cross Correaltion Function"
      ]
    },
    {
      "cell_type": "code",
      "execution_count": null,
      "metadata": {
        "id": "fM4Hm9xbDLZn"
      },
      "outputs": [],
      "source": [
        "import scipy.signal\n",
        "import statsmodels.api as sm\n",
        "def scipy_corr(x,y):\n",
        " # corr = scipy.signal.correlate(x, y,'valid')\n",
        "  ar=sm.tsa.stattools.ccf(x, y, adjusted=False)\n",
        "  val=np.mean(ar)\n",
        "  return val"
      ]
    },
    {
      "cell_type": "markdown",
      "metadata": {
        "id": "EKcdiwJjkP_p"
      },
      "source": [
        "Pearson Correlation Coefficient"
      ]
    },
    {
      "cell_type": "code",
      "execution_count": null,
      "metadata": {
        "id": "6F3XmCg7kPan"
      },
      "outputs": [],
      "source": [
        "from scipy.stats import pearsonr\n",
        "def pearson(x,y):\n",
        "  # corr, _ = pearsonr(x, y)\n",
        "  # return corr\n",
        "  n=x.shape[0]\n",
        "  m=y.shape[0]\n",
        "  sum_x=np.sum(x)\n",
        "  sum_y=np.sum(y)\n",
        "  sum_xy=0\n",
        "  sq_x=0\n",
        "  sq_y=0\n",
        "  for i in range(0,n):\n",
        "    sum_xy=sum_xy+x[i]*y[i]\n",
        "    sq_x=sq_x+x[i]*x[i]\n",
        "    sq_y=sq_y+y[i]*y[i]\n",
        "  d=(n*sq_x-(sum_x*sum_x))\n",
        "  d=math.sqrt(d)\n",
        "  u=(n*sq_y-(sum_y*sum_y))\n",
        "  if(u<0):\n",
        "    u=u*-1\n",
        "  elif(u==0):\n",
        "    u=1\n",
        "  u=math.sqrt(u)\n",
        "  pcc=((n*sum_xy)-(sum_x*sum_y))/(u*d)\n",
        " # print(pcc)\n",
        "  return pcc"
      ]
    },
    {
      "cell_type": "markdown",
      "metadata": {
        "id": "7ztLGsxf1j9W"
      },
      "source": [
        "Shannon Entropy"
      ]
    },
    {
      "cell_type": "code",
      "execution_count": null,
      "metadata": {
        "id": "vdgsO3Fo1jb-"
      },
      "outputs": [],
      "source": [
        "from scipy.stats import entropy as en\n",
        "def shannon(data):\n",
        "  pd_series = pd.Series(data)\n",
        "  counts = pd_series.value_counts()\n",
        "  entr = en(counts)\n",
        "  return entr"
      ]
    },
    {
      "cell_type": "markdown",
      "metadata": {
        "id": "eB4q8-TVrxx3"
      },
      "source": [
        "Mutual Information"
      ]
    },
    {
      "cell_type": "code",
      "execution_count": null,
      "metadata": {
        "id": "SHqWIWz8rz2U"
      },
      "outputs": [],
      "source": [
        "from sklearn.metrics import mutual_info_score\n",
        "def mi_scr(x,y):\n",
        "  m = mutual_info_score(x,y)\n",
        "  return m"
      ]
    },
    {
      "cell_type": "markdown",
      "metadata": {
        "id": "UZs3Nvr52u6V"
      },
      "source": [
        "Normalized MI"
      ]
    },
    {
      "cell_type": "code",
      "execution_count": null,
      "metadata": {
        "id": "0YJFBowq2uaE"
      },
      "outputs": [],
      "source": [
        "def partial_mi(a,b):\n",
        "  h1=mutual_info_score(a,b)\n",
        "  h2=shannon(a)\n",
        "  h3=shannon(b)\n",
        "  joint=(h1)/(h2+h3)\n",
        "  return joint\n"
      ]
    },
    {
      "cell_type": "markdown",
      "metadata": {
        "id": "kTczOJmX-IQw"
      },
      "source": [
        "Mean"
      ]
    },
    {
      "cell_type": "code",
      "execution_count": null,
      "metadata": {
        "id": "gC_xkVj0-JSO"
      },
      "outputs": [],
      "source": [
        "def mean_c(a,b):\n",
        "  n=a.shape[0]\n",
        "  sum=0\n",
        "  for i in range (0,n):\n",
        "    sum=sum+a[i]+b[i]\n",
        "\n",
        "  n=n*2;\n",
        "  mn=(sum/n)\n",
        "  return mn\n"
      ]
    },
    {
      "cell_type": "code",
      "execution_count": null,
      "metadata": {
        "id": "NNva9icY53CW"
      },
      "outputs": [],
      "source": [
        "#### Feature Map Function #####\n",
        "def get_features(a,b,c,d,n):\n",
        "\n",
        "  mi_score=[]\n",
        "  partial_mi_score=[]\n",
        "  mean_f=[]\n",
        "  xcorr=[]\n",
        "  pearson_corr=[]\n",
        "\n",
        "  for i in range (0,n):\n",
        "    corr_fmp=[]\n",
        "    pear=[]\n",
        "    mn=[]\n",
        "    mi=[]\n",
        "    pmi=[]\n",
        "    f=a[i]\n",
        "    g=b[i]\n",
        "    ja=c[i]\n",
        "    jg=d[i]\n",
        "    #ja,jg=process_data(c[i],d[i],2)\n",
        "    for j in range (0,16):\n",
        "\n",
        "      values=[]\n",
        "      pp=[]\n",
        "      mm=[]\n",
        "      mii=[]\n",
        "      pmii=[]\n",
        "      for k in range (0,16):\n",
        "        if(j<4):\n",
        "          x=f[features[j]]\n",
        "        elif(j<8):\n",
        "          x=g[features[j]]\n",
        "        elif(j<12):\n",
        "          x=ja[features[j]]\n",
        "        else:\n",
        "          x=jg[features[j]]\n",
        "\n",
        "        if(k<4):\n",
        "          y=f[features[k]]\n",
        "        elif(k<8):\n",
        "          y=g[features[k]]\n",
        "        elif(k<12):\n",
        "          y=ja[features[k]]\n",
        "        else:\n",
        "          y=jg[features[k]]\n",
        "\n",
        "        corr=scipy_corr(x,y)\n",
        "        corr=round(corr,4)\n",
        "        values.append(corr)\n",
        "        mb=mean_c(x,y)\n",
        "        mb=round(mb,4)\n",
        "        mm.append(mb)\n",
        "       # print(\"j=\",j,\" k=\",k)\n",
        "        #print(\"k=\",k,\" and y=\",y)\n",
        "        px=pearson(x,y)\n",
        "        px=round(px,4)\n",
        "        pp.append(px)\n",
        "        mb=mi_scr(x,y)\n",
        "        mb=round(mb,4)\n",
        "        mii.append(mb)\n",
        "        mb=partial_mi(x,y)\n",
        "        mb=round(mb,4)\n",
        "        pmii.append(mb)\n",
        "      corr_fmp.append(values)\n",
        "      pear.append(pp)\n",
        "      mn.append(mm)\n",
        "      mi.append(mii)\n",
        "      pmi.append(pmii)\n",
        "    mi_score.append(mi)\n",
        "    partial_mi_score.append(pmi)\n",
        "    mean_f.append(mn)\n",
        "    pearson_corr.append(pear)\n",
        "    xcorr.append(corr_fmp)\n",
        "  return xcorr,pearson_corr,mi_score,partial_mi_score,mean_f\n",
        ""
      ]
    },
    {
      "cell_type": "markdown",
      "metadata": {
        "id": "yrrQxEkPq218"
      },
      "source": [
        "Feature Map construction"
      ]
    },
    {
      "cell_type": "code",
      "execution_count": null,
      "metadata": {
        "id": "hJm4sta7FjjQ"
      },
      "outputs": [],
      "source": [
        "#### Feature Map construction (Fall) #####\n",
        "mi_score=[]\n",
        "partial_mi_score=[]\n",
        "mean_f=[]\n",
        "xcorr=[]\n",
        "pearson_corr=[]\n",
        "\n",
        "xcorr,pearson_corr,mi_score,partial_mi_score,mean_f=get_features(fall_ac,fall_gy,fall_jerk_ac,fall_jerk_gy,fall_number)\n"
      ]
    },
    {
      "cell_type": "code",
      "execution_count": null,
      "metadata": {
        "colab": {
          "base_uri": "https://localhost:8080/"
        },
        "id": "dirUf0F7OxQY",
        "outputId": "061efdc9-de1e-4613-b253-51b685d5c8c9"
      },
      "outputs": [
        {
          "output_type": "stream",
          "name": "stdout",
          "text": [
            "205\n"
          ]
        }
      ],
      "source": [
        "print(len(xcorr))"
      ]
    },
    {
      "cell_type": "code",
      "execution_count": null,
      "metadata": {
        "id": "OIK80unfm1hP"
      },
      "outputs": [],
      "source": [
        "def heat_map(x):\n",
        "  #plt.figure(figsize=(15,8))\n",
        "  f,ax = plt.subplots(figsize=(15, 8))\n",
        "  sns.heatmap(x, annot=False, linewidths=0.0,ax=ax)\n",
        "  #sns.heatmap(x,cmap=\"Greens\")"
      ]
    },
    {
      "cell_type": "code",
      "execution_count": null,
      "metadata": {
        "colab": {
          "base_uri": "https://localhost:8080/",
          "height": 483
        },
        "id": "NkTilsTfnOcF",
        "outputId": "e2082d4a-437d-4784-8c32-b93f01625a1d"
      },
      "outputs": [
        {
          "output_type": "display_data",
          "data": {
            "text/plain": [
              "<Figure size 1080x576 with 2 Axes>"
            ],
            "image/png": "[encoded data removed]"
          },
          "metadata": {
            "needs_background": "light"
          }
        }
      ],
      "source": [
        "tem=xcorr\n",
        "heat_map(tem[0])"
      ]
    },
    {
      "cell_type": "code",
      "execution_count": null,
      "metadata": {
        "colab": {
          "base_uri": "https://localhost:8080/",
          "height": 483
        },
        "id": "qQ24kD2aorUY",
        "outputId": "bebf8792-2ca3-4792-eb0c-d6e3ef8e8298"
      },
      "outputs": [
        {
          "output_type": "display_data",
          "data": {
            "text/plain": [
              "<Figure size 1080x576 with 2 Axes>"
            ],
            "image/png": "[encoded data removed]"
          },
          "metadata": {
            "needs_background": "light"
          }
        }
      ],
      "source": [
        "heat_map(mean_f[2])"
      ]
    },
    {
      "cell_type": "code",
      "execution_count": null,
      "metadata": {
        "colab": {
          "base_uri": "https://localhost:8080/"
        },
        "id": "goiXm5fAaPJn",
        "outputId": "c45442af-4de7-4cb6-b752-3de839f57f35"
      },
      "outputs": [
        {
          "output_type": "stream",
          "name": "stdout",
          "text": [
            "[[0.4248, 0.401, 0.4929, 0.7496, 0.3797, 0.3988, 0.3229, 0.5417, 6782.1422, 8416.5529, 5419.3499, -2985.7435, 1009.6754, 1128.8453, 904.7792, 118.2163], [0.401, 0.3773, 0.4691, 0.7258, 0.3559, 0.375, 0.2991, 0.5179, 6782.1184, 8416.5292, 5419.3261, -2985.7673, 1009.6516, 1128.8215, 904.7554, 118.1925], [0.4929, 0.4691, 0.5609, 0.8176, 0.4478, 0.4669, 0.3909, 0.6098, 6782.2103, 8416.621, 5419.4179, -2985.6754, 1009.7435, 1128.9133, 904.8472, 118.2843], [0.7496, 0.7258, 0.8176, 1.0743, 0.7045, 0.7236, 0.6476, 0.8665, 6782.467, 8416.8777, 5419.6746, -2985.4188, 1010.0002, 1129.17, 905.1039, 118.541], [0.3797, 0.3559, 0.4478, 0.7045, 0.3346, 0.3537, 0.2778, 0.4966, 6782.0971, 8416.5078, 5419.3048, -2985.7886, 1009.6303, 1128.8002, 904.7341, 118.1712], [0.3988, 0.375, 0.4669, 0.7236, 0.3537, 0.3728, 0.2969, 0.5157, 6782.1162, 8416.5269, 5419.3238, -2985.7695, 1009.6494, 1128.8193, 904.7532, 118.1902], [0.3229, 0.2991, 0.3909, 0.6476, 0.2778, 0.2969, 0.221, 0.4398, 6782.0403, 8416.451, 5419.2479, -2985.8454, 1009.5735, 1128.7433, 904.6773, 118.1143], [0.5417, 0.5179, 0.6098, 0.8665, 0.4966, 0.5157, 0.4398, 0.6586, 6782.2591, 8416.6698, 5419.4668, -2985.6266, 1009.7923, 1128.9622, 904.8961, 118.3332], [6782.1422, 6782.1184, 6782.2103, 6782.467, 6782.0971, 6782.1162, 6782.0403, 6782.2591, 13563.8596, 15198.2703, 12201.0673, 3795.9739, 7791.3928, 7910.5627, 7686.4966, 6899.9336], [8416.5529, 8416.5292, 8416.621, 8416.8777, 8416.5078, 8416.5269, 8416.451, 8416.6698, 15198.2703, 16832.6811, 13835.478, 5430.3846, 9425.8035, 9544.9734, 9320.9073, 8534.3444], [5419.3499, 5419.3261, 5419.4179, 5419.6746, 5419.3048, 5419.3238, 5419.2479, 5419.4668, 12201.0673, 13835.478, 10838.2749, 2433.1815, 6428.6005, 6547.7703, 6323.7042, 5537.1413], [-2985.7435, -2985.7673, -2985.6754, -2985.4188, -2985.7886, -2985.7695, -2985.8454, -2985.6266, 3795.9739, 5430.3846, 2433.1815, -5971.9118, -1976.4929, -1857.323, -2081.3891, -2867.9521], [1009.6754, 1009.6516, 1009.7435, 1010.0002, 1009.6303, 1009.6494, 1009.5735, 1009.7923, 7791.3928, 9425.8035, 6428.6005, -1976.4929, 2018.926, 2138.0959, 1914.0298, 1127.4669], [1128.8453, 1128.8215, 1128.9133, 1129.17, 1128.8002, 1128.8193, 1128.7433, 1128.9622, 7910.5627, 9544.9734, 6547.7703, -1857.323, 2138.0959, 2257.2657, 2033.1996, 1246.6367], [904.7792, 904.7554, 904.8472, 905.1039, 904.7341, 904.7532, 904.6773, 904.8961, 7686.4966, 9320.9073, 6323.7042, -2081.3891, 1914.0298, 2033.1996, 1809.1336, 1022.5706], [118.2163, 118.1925, 118.2843, 118.541, 118.1712, 118.1902, 118.1143, 118.3332, 6899.9336, 8534.3444, 5537.1413, -2867.9521, 1127.4669, 1246.6367, 1022.5706, 236.0077]]\n"
          ]
        }
      ],
      "source": [
        "print(mean_f[1])"
      ]
    },
    {
      "cell_type": "code",
      "execution_count": null,
      "metadata": {
        "colab": {
          "base_uri": "https://localhost:8080/",
          "height": 487
        },
        "id": "H_dfGJYoY_s0",
        "outputId": "e4ab9067-683a-420b-bcc6-c51b84fa0efe"
      },
      "outputs": [
        {
          "output_type": "display_data",
          "data": {
            "text/plain": [
              "<Figure size 1080x576 with 2 Axes>"
            ],
            "image/png": "[encoded data removed]"
          },
          "metadata": {
            "needs_background": "light"
          }
        }
      ],
      "source": [
        "heat_map(partial_mi_score[1])"
      ]
    },
    {
      "cell_type": "markdown",
      "metadata": {
        "id": "bROu-i5BqD_m"
      },
      "source": [
        "Walk Data"
      ]
    },
    {
      "cell_type": "code",
      "execution_count": null,
      "metadata": {
        "id": "4NW48X2VqDVg"
      },
      "outputs": [],
      "source": [
        "mi_score_walk=[]\n",
        "partial_mi_score_walk=[]\n",
        "mean_f_walk=[]\n",
        "xcorr_walk=[]\n",
        "pearson_corr_walk=[]\n",
        "\n",
        "\n",
        "xcorr_walk,pearson_corr_walk,mi_score_walk,partial_mi_score_walk,mean_f_walk=get_features(walk_ac,walk_gy,walk_jerk_ac,walk_jerk_gy,walk_number)\n",
        "\n"
      ]
    },
    {
      "cell_type": "code",
      "execution_count": null,
      "metadata": {
        "colab": {
          "base_uri": "https://localhost:8080/",
          "height": 487
        },
        "id": "2O2xO21AxOhn",
        "outputId": "53d5311b-5371-46b4-a245-9bfe824e04a9"
      },
      "outputs": [
        {
          "output_type": "display_data",
          "data": {
            "text/plain": [
              "<Figure size 1080x576 with 2 Axes>"
            ],
            "image/png": "[encoded data removed]"
          },
          "metadata": {
            "needs_background": "light"
          }
        }
      ],
      "source": [
        "heat_map(partial_mi_score_walk[0])"
      ]
    },
    {
      "cell_type": "code",
      "execution_count": null,
      "metadata": {
        "id": "ZhvXnmniXRLn"
      },
      "outputs": [],
      "source": []
    },
    {
      "cell_type": "code",
      "execution_count": null,
      "metadata": {
        "colab": {
          "base_uri": "https://localhost:8080/",
          "height": 483
        },
        "id": "nHlaTFMaxjPi",
        "outputId": "ff162801-3799-4360-b1b3-291a6d974e45"
      },
      "outputs": [
        {
          "output_type": "display_data",
          "data": {
            "text/plain": [
              "<Figure size 1080x576 with 2 Axes>"
            ],
            "image/png": "[encoded data removed]"
          },
          "metadata": {
            "needs_background": "light"
          }
        }
      ],
      "source": [
        "heat_map(mi_score_walk[0])"
      ]
    },
    {
      "cell_type": "code",
      "execution_count": null,
      "metadata": {
        "id": "PqVuro3DZz2M"
      },
      "outputs": [],
      "source": [
        "######Sitting feature map\n",
        "mi_score_sit=[]\n",
        "partial_mi_score_sit=[]\n",
        "mean_f_sit=[]\n",
        "xcorr_sit=[]\n",
        "pearson_corr_sit=[]\n",
        "xcorr_sit,pearson_corr_sit,mi_score_sit,partial_mi_score_sit,mean_f_sit=get_features(sit_ac,sit_gy,sit_jerk_ac,sit_jerk_gy,sit_number)\n"
      ]
    },
    {
      "cell_type": "code",
      "execution_count": null,
      "metadata": {
        "colab": {
          "base_uri": "https://localhost:8080/",
          "height": 487
        },
        "id": "D1IewNKKeYH9",
        "outputId": "a76bd3e3-9da0-4f5e-8cc3-67113c85df3d"
      },
      "outputs": [
        {
          "output_type": "display_data",
          "data": {
            "text/plain": [
              "<Figure size 1080x576 with 2 Axes>"
            ],
            "image/png": "[encoded data removed]"
          },
          "metadata": {
            "needs_background": "light"
          }
        }
      ],
      "source": [
        "heat_map(pearson_corr_sit[1])"
      ]
    },
    {
      "cell_type": "code",
      "execution_count": null,
      "metadata": {
        "id": "eyU9cSTws4e6",
        "colab": {
          "base_uri": "https://localhost:8080/",
          "height": 487
        },
        "outputId": "0a6343ed-5857-48c8-8733-d1fdc537a808"
      },
      "outputs": [
        {
          "output_type": "display_data",
          "data": {
            "text/plain": [
              "<Figure size 1080x576 with 2 Axes>"
            ],
            "image/png": "[encoded data removed]"
          },
          "metadata": {
            "needs_background": "light"
          }
        }
      ],
      "source": [
        "heat_map(pearson_corr_sit[1])"
      ]
    },
    {
      "cell_type": "code",
      "execution_count": null,
      "metadata": {
        "id": "GdtL68A_tAAx"
      },
      "outputs": [],
      "source": [
        "###### BSC feature map\n",
        "mi_score_bsc=[]\n",
        "partial_mi_score_bsc=[]\n",
        "mean_f_bsc=[]\n",
        "xcorr_bsc=[]\n",
        "pearson_corr_bsc=[]\n",
        "\n",
        "xcorr_bsc,pearson_corr_bsc,mi_score_bsc,partial_mi_score_bsc,mean_f_bsc=get_features(bsc_ac,bsc_gy,bsc_jerk_ac,bsc_jerk_gy,bsc_number)"
      ]
    },
    {
      "cell_type": "code",
      "execution_count": null,
      "metadata": {
        "id": "pe5FKixstgCK"
      },
      "outputs": [],
      "source": []
    },
    {
      "cell_type": "code",
      "execution_count": null,
      "metadata": {
        "id": "57gi-mAitgrY"
      },
      "outputs": [],
      "source": [
        "###### Standing feature map\n",
        "mi_score_stand=[]\n",
        "partial_mi_score_stand=[]\n",
        "mean_f_stand=[]\n",
        "xcorr_stand=[]\n",
        "pearson_corr_stand=[]\n",
        "\n",
        "xcorr_stand,pearson_corr_stand,mi_score_stand,partial_mi_score_stand,mean_f_stand=get_features(stand_ac,stand_gy,stand_jerk_ac,stand_jerk_gy,stand_number)\n",
        "\n",
        "\n"
      ]
    },
    {
      "cell_type": "code",
      "execution_count": null,
      "metadata": {
        "id": "POqVwG8dt577"
      },
      "outputs": [],
      "source": []
    },
    {
      "cell_type": "code",
      "execution_count": null,
      "metadata": {
        "id": "kU1PagVrt6cP"
      },
      "outputs": [],
      "source": [
        "###### Laying feature map\n",
        "mi_score_laying=[]\n",
        "partial_mi_score_laying=[]\n",
        "mean_f_laying=[]\n",
        "xcorr_laying=[]\n",
        "pearson_corr_laying=[]\n",
        "\n",
        "xcorr_laying,pearson_corr_laying,mi_score_laying,partial_mi_score_laying,mean_f_laying=get_features(laying_ac,laying_gy,laying_jerk_ac,laying_jerk_gy,laying_number)\n",
        "\n"
      ]
    },
    {
      "cell_type": "code",
      "execution_count": null,
      "metadata": {
        "id": "mvtQkUdhU1Cj"
      },
      "outputs": [],
      "source": [
        "\n",
        "ffm=\"xcorr\"\n",
        "for i in range(fall_number):\n",
        "  ffm=\"xcorr\"+\"_\"+str(i)+\".csv\"\n",
        "  poth='/content/drive/MyDrive/Colab Notebooks/Data/'+ffm\n",
        "  fd=pd.DataFrame(xcorr[i])\n",
        "  fd.to_csv(poth)\n",
        "  ffm=\"pearson_corr\"+\"_\"+str(i)+\".csv\"\n",
        "  poth='/content/drive/MyDrive/Colab Notebooks/Data/'+ffm\n",
        "  fd=pd.DataFrame(pearson_corr[i])\n",
        "  fd.to_csv(poth)\n",
        "  ffm=\"mi\"+\"_\"+str(i)+\".csv\"\n",
        "  poth='/content/drive/MyDrive/Colab Notebooks/Data/'+ffm\n",
        "  fd=pd.DataFrame(mi_score[i])\n",
        "  fd.to_csv(poth)\n",
        "  ffm=\"pmi\"+\"_\"+str(i)+\".csv\"\n",
        "  poth='/content/drive/MyDrive/Colab Notebooks/Data/'+ffm\n",
        "  fd=pd.DataFrame(partial_mi_score[i])\n",
        "  fd.to_csv(poth)\n",
        "  ffm=\"mean\"+\"_\"+str(i)+\".csv\"\n",
        "  poth='/content/drive/MyDrive/Colab Notebooks/Data/'+ffm\n",
        "  fd=pd.DataFrame(mean_f[i])\n",
        "  fd.to_csv(poth)\n",
        "\n",
        "for i in range(walk_number):\n",
        "  ffm=\"xcorr_walk\"+\"_\"+str(i)+\".csv\"\n",
        "  poth='/content/drive/MyDrive/Colab Notebooks/Data/'+ffm\n",
        "  fd=pd.DataFrame(xcorr_walk[i])\n",
        "  fd.to_csv(poth)\n",
        "  ffm=\"pearson_corr_walk\"+\"_\"+str(i)+\".csv\"\n",
        "  poth='/content/drive/MyDrive/Colab Notebooks/Data/'+ffm\n",
        "  fd=pd.DataFrame(pearson_corr_walk[i])\n",
        "  fd.to_csv(poth)\n",
        "  ffm=\"mi_walk\"+\"_\"+str(i)+\".csv\"\n",
        "  poth='/content/drive/MyDrive/Colab Notebooks/Data/'+ffm\n",
        "  fd=pd.DataFrame(mi_score_walk[i])\n",
        "  fd.to_csv(poth)\n",
        "  ffm=\"pmi_walk\"+\"_\"+str(i)+\".csv\"\n",
        "  poth='/content/drive/MyDrive/Colab Notebooks/Data/'+ffm\n",
        "  fd=pd.DataFrame(partial_mi_score_walk[i])\n",
        "  fd.to_csv(poth)\n",
        "  ffm=\"mean_walk\"+\"_\"+str(i)+\".csv\"\n",
        "  poth='/content/drive/MyDrive/Colab Notebooks/Data/'+ffm\n",
        "  fd=pd.DataFrame(mean_f_walk[i])\n",
        "  fd.to_csv(poth)\n",
        "\n",
        "for i in range(sit_number):\n",
        "  ffm=\"xcorr_sit\"+\"_\"+str(i)+\".csv\"\n",
        "  poth='/content/drive/MyDrive/Colab Notebooks/Data/'+ffm\n",
        "  fd=pd.DataFrame(xcorr_sit[i])\n",
        "  fd.to_csv(poth)\n",
        "  ffm=\"pearson_corr_sit\"+\"_\"+str(i)+\".csv\"\n",
        "  poth='/content/drive/MyDrive/Colab Notebooks/Data/'+ffm\n",
        "  fd=pd.DataFrame(pearson_corr_sit[i])\n",
        "  fd.to_csv(poth)\n",
        "  ffm=\"mi_sit\"+\"_\"+str(i)+\".csv\"\n",
        "  poth='/content/drive/MyDrive/Colab Notebooks/Data/'+ffm\n",
        "  fd=pd.DataFrame(mi_score_sit[i])\n",
        "  fd.to_csv(poth)\n",
        "  ffm=\"pmi_sit\"+\"_\"+str(i)+\".csv\"\n",
        "  poth='/content/drive/MyDrive/Colab Notebooks/Data/'+ffm\n",
        "  fd=pd.DataFrame(partial_mi_score_sit[i])\n",
        "  fd.to_csv(poth)\n",
        "  ffm=\"mean_sit\"+\"_\"+str(i)+\".csv\"\n",
        "  poth='/content/drive/MyDrive/Colab Notebooks/Data/'+ffm\n",
        "  fd=pd.DataFrame(mean_f_sit[i])\n",
        "  fd.to_csv(poth)\n",
        "\n",
        "for i in range(laying_number):\n",
        "  ffm=\"xcorr_laying\"+\"_\"+str(i)+\".csv\"\n",
        "  poth='/content/drive/MyDrive/Colab Notebooks/Data/'+ffm\n",
        "  fd=pd.DataFrame(xcorr_laying[i])\n",
        "  fd.to_csv(poth)\n",
        "  ffm=\"pearson_corr_laying\"+\"_\"+str(i)+\".csv\"\n",
        "  poth='/content/drive/MyDrive/Colab Notebooks/Data/'+ffm\n",
        "  fd=pd.DataFrame(pearson_corr_laying[i])\n",
        "  fd.to_csv(poth)\n",
        "  ffm=\"mi_laying\"+\"_\"+str(i)+\".csv\"\n",
        "  poth='/content/drive/MyDrive/Colab Notebooks/Data/'+ffm\n",
        "  fd=pd.DataFrame(mi_score_laying[i])\n",
        "  fd.to_csv(poth)\n",
        "  ffm=\"pmi_laying\"+\"_\"+str(i)+\".csv\"\n",
        "  poth='/content/drive/MyDrive/Colab Notebooks/Data/'+ffm\n",
        "  fd=pd.DataFrame(partial_mi_score_laying[i])\n",
        "  fd.to_csv(poth)\n",
        "  ffm=\"mean_laying\"+\"_\"+str(i)+\".csv\"\n",
        "  poth='/content/drive/MyDrive/Colab Notebooks/Data/'+ffm\n",
        "  fd=pd.DataFrame(mean_f_laying[i])\n",
        "  fd.to_csv(poth)\n",
        "\n",
        "for i in range(stand_number):\n",
        "  ffm=\"xcorr_stand\"+\"_\"+str(i)+\".csv\"\n",
        "  poth='/content/drive/MyDrive/Colab Notebooks/Data/'+ffm\n",
        "  fd=pd.DataFrame(xcorr_stand[i])\n",
        "  fd.to_csv(poth)\n",
        "  ffm=\"pearson_corr_stand\"+\"_\"+str(i)+\".csv\"\n",
        "  poth='/content/drive/MyDrive/Colab Notebooks/Data/'+ffm\n",
        "  fd=pd.DataFrame(pearson_corr_stand[i])\n",
        "  fd.to_csv(poth)\n",
        "  ffm=\"mi_stand\"+\"_\"+str(i)+\".csv\"\n",
        "  poth='/content/drive/MyDrive/Colab Notebooks/Data/'+ffm\n",
        "  fd=pd.DataFrame(mi_score_stand[i])\n",
        "  fd.to_csv(poth)\n",
        "  ffm=\"pmi_stand\"+\"_\"+str(i)+\".csv\"\n",
        "  poth='/content/drive/MyDrive/Colab Notebooks/Data/'+ffm\n",
        "  fd=pd.DataFrame(partial_mi_score_stand[i])\n",
        "  fd.to_csv(poth)\n",
        "  ffm=\"mean_stand\"+\"_\"+str(i)+\".csv\"\n",
        "  poth='/content/drive/MyDrive/Colab Notebooks/Data/'+ffm\n",
        "  fd=pd.DataFrame(mean_f_stand[i])\n",
        "  fd.to_csv(poth)\n",
        "\n",
        "for i in range(bsc_number):\n",
        "  ffm=\"xcorr_bsc\"+\"_\"+str(i)+\".csv\"\n",
        "  poth='/content/drive/MyDrive/Colab Notebooks/Data/'+ffm\n",
        "  fd=pd.DataFrame(xcorr_bsc[i])\n",
        "  fd.to_csv(poth)\n",
        "  ffm=\"pearson_corr_bsc\"+\"_\"+str(i)+\".csv\"\n",
        "  poth='/content/drive/MyDrive/Colab Notebooks/Data/'+ffm\n",
        "  fd=pd.DataFrame(pearson_corr_bsc[i])\n",
        "  fd.to_csv(poth)\n",
        "  ffm=\"mi_bsc\"+\"_\"+str(i)+\".csv\"\n",
        "  poth='/content/drive/MyDrive/Colab Notebooks/Data/'+ffm\n",
        "  fd=pd.DataFrame(mi_score_bsc[i])\n",
        "  fd.to_csv(poth)\n",
        "  ffm=\"pmi_bsc\"+\"_\"+str(i)+\".csv\"\n",
        "  poth='/content/drive/MyDrive/Colab Notebooks/Data/'+ffm\n",
        "  fd=pd.DataFrame(partial_mi_score_bsc[i])\n",
        "  fd.to_csv(poth)\n",
        "  ffm=\"mean_bsc\"+\"_\"+str(i)+\".csv\"\n",
        "  poth='/content/drive/MyDrive/Colab Notebooks/Data/'+ffm\n",
        "  fd=pd.DataFrame(mean_f_bsc[i])\n",
        "  fd.to_csv(poth)\n",
        "\n"
      ]
    },
    {
      "cell_type": "code",
      "execution_count": null,
      "metadata": {
        "id": "QJoflsHpECMu"
      },
      "outputs": [],
      "source": []
    }
  ],
  "metadata": {
    "accelerator": "GPU",
    "colab": {
      "provenance": []
    },
    "gpuClass": "standard",
    "kernelspec": {
      "display_name": "Python 3",
      "name": "python3"
    },
    "language_info": {
      "name": "python"
    }
  },
  "nbformat": 4,
  "nbformat_minor": 0
}